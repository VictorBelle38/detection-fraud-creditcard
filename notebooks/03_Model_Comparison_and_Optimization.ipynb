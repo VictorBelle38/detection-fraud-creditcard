{
 "cells": [
  {
   "cell_type": "markdown",
   "metadata": {},
   "source": [
    "# Comparação e Escolha do Modelo Final - Detecção de Fraudes em Cartões de Crédito\n",
    "\n",
    "Este notebook tem como objetivo documentar a comparação dos modelos treinados (Random Forest e XGBoost), analisar suas métricas de desempenho e justificar a escolha do modelo final que será utilizado na aplicação.\n",
    "\n",
    "## Modelos avaliados:\n",
    "\n",
    "- **Random Forest Classifier**\n",
    "- **XGBoost Classifier**\n",
    "\n",
    "## Métricas analisadas:\n",
    "\n",
    "- Matriz de confusão\n",
    "- Precision\n",
    "- Recall\n",
    "- F1-Score\n",
    "- AUC-ROC\n",
    "\n",
    "O foco principal da análise está na performance sobre a **classe minoritária (fraude)**, priorizando métricas como **Recall** e **F1-Score** da classe `1`.\n",
    "\n",
    "---\n"
   ]
  },
  {
   "cell_type": "code",
   "execution_count": 3,
   "metadata": {},
   "outputs": [
    {
     "data": {
      "text/html": [
       "<div>\n",
       "<style scoped>\n",
       "    .dataframe tbody tr th:only-of-type {\n",
       "        vertical-align: middle;\n",
       "    }\n",
       "\n",
       "    .dataframe tbody tr th {\n",
       "        vertical-align: top;\n",
       "    }\n",
       "\n",
       "    .dataframe thead th {\n",
       "        text-align: right;\n",
       "    }\n",
       "</style>\n",
       "<table border=\"1\" class=\"dataframe\">\n",
       "  <thead>\n",
       "    <tr style=\"text-align: right;\">\n",
       "      <th></th>\n",
       "      <th>Modelo</th>\n",
       "      <th>Recall (Classe 1)</th>\n",
       "      <th>Precision (Classe 1)</th>\n",
       "      <th>F1-Score (Classe 1)</th>\n",
       "      <th>AUC-ROC</th>\n",
       "    </tr>\n",
       "  </thead>\n",
       "  <tbody>\n",
       "    <tr>\n",
       "      <th>0</th>\n",
       "      <td>Random Forest</td>\n",
       "      <td>0.71</td>\n",
       "      <td>0.97</td>\n",
       "      <td>0.82</td>\n",
       "      <td>0.9600</td>\n",
       "    </tr>\n",
       "    <tr>\n",
       "      <th>1</th>\n",
       "      <td>XGBoost</td>\n",
       "      <td>0.79</td>\n",
       "      <td>0.88</td>\n",
       "      <td>0.83</td>\n",
       "      <td>0.9705</td>\n",
       "    </tr>\n",
       "  </tbody>\n",
       "</table>\n",
       "</div>"
      ],
      "text/plain": [
       "          Modelo  Recall (Classe 1)  Precision (Classe 1)  \\\n",
       "0  Random Forest               0.71                  0.97   \n",
       "1        XGBoost               0.79                  0.88   \n",
       "\n",
       "   F1-Score (Classe 1)  AUC-ROC  \n",
       "0                 0.82   0.9600  \n",
       "1                 0.83   0.9705  "
      ]
     },
     "execution_count": 3,
     "metadata": {},
     "output_type": "execute_result"
    }
   ],
   "source": [
    "import pandas as pd\n",
    "\n",
    "dados_comparacao = {\n",
    "    'Modelo': ['Random Forest', 'XGBoost'],\n",
    "    'Recall (Classe 1)': [0.71, 0.79],\n",
    "    'Precision (Classe 1)': [0.97, 0.88],\n",
    "    'F1-Score (Classe 1)': [0.82, 0.83],\n",
    "    'AUC-ROC': [0.96, 0.9705]  # substitua 0.96 pelo real do RF se já tiver\n",
    "}\n",
    "\n",
    "comparacao_df = pd.DataFrame(dados_comparacao)\n",
    "comparacao_df"
   ]
  },
  {
   "cell_type": "markdown",
   "metadata": {},
   "source": [
    "## Conclusão\n",
    "\n",
    "Com base nas métricas obtidas, o modelo **XGBoost** apresentou melhor desempenho na detecção de fraudes (Classe 1), especialmente nos seguintes aspectos:\n",
    "\n",
    "- **Maior Recall (0.79 vs 0.71)** → detecta mais fraudes\n",
    "- **Maior F1-Score (0.83 vs 0.82)** → melhor equilíbrio entre precisão e sensibilidade\n",
    "- **AUC-ROC mais alta (0.9705)** → maior capacidade de separar fraudes de não fraudes\n",
    "\n",
    "Apesar do Random Forest ter um Precision ligeiramente superior, o modelo XGBoost foi escolhido para ser utilizado no deploy, considerando que o objetivo principal do projeto é **detectar o maior número possível de fraudes com qualidade aceitável**.\n"
   ]
  }
 ],
 "metadata": {
  "kernelspec": {
   "display_name": "venv",
   "language": "python",
   "name": "python3"
  },
  "language_info": {
   "codemirror_mode": {
    "name": "ipython",
    "version": 3
   },
   "file_extension": ".py",
   "mimetype": "text/x-python",
   "name": "python",
   "nbconvert_exporter": "python",
   "pygments_lexer": "ipython3",
   "version": "3.13.3"
  }
 },
 "nbformat": 4,
 "nbformat_minor": 2
}
